{
  "nbformat": 4,
  "nbformat_minor": 0,
  "metadata": {
    "colab": {
      "provenance": [],
      "collapsed_sections": []
    },
    "kernelspec": {
      "name": "python3",
      "display_name": "Python 3"
    },
    "language_info": {
      "name": "python"
    }
  },
  "cells": [
    {
      "cell_type": "code",
      "source": [
        "import numpy as np\n",
        "import matplotlib.pyplot as plt"
      ],
      "metadata": {
        "id": "J0A3bYjgtAvZ"
      },
      "execution_count": null,
      "outputs": []
    },
    {
      "cell_type": "markdown",
      "source": [],
      "metadata": {
        "id": "Iu0q_yOrxkzC"
      }
    },
    {
      "cell_type": "code",
      "execution_count": null,
      "metadata": {
        "id": "3ID-0D65qLDM"
      },
      "outputs": [],
      "source": [
        "class sistema_lineal: \n",
        "  def __init__ (self,A,b):\n",
        "    self.A = A\n",
        "    self.b = b\n",
        "  def Jacobi(self,itmax=1000,error = 1e-10):\n",
        "    M,N = self.A.shape\n",
        "    x = np.zeros(N)\n",
        "    sumk = np.zeros_like(x)\n",
        "    x = [13,20,-1]\n",
        "    it = 0\n",
        "    residuo = np.linalg.norm( self.b - np.dot(self.A,x) )\n",
        "    while ( residuo > error and it < itmax ):\n",
        "        it += 1\n",
        "        for i in range(M):\n",
        "            sum_ = 0\n",
        "            for j in range(N):\n",
        "                if i != j:\n",
        "                    sum_ += self.A[i][j]*x[j]\n",
        "            sumk[i] = sum_\n",
        "        for i in range(M):\n",
        "            if self.A[i,i] != 0:\n",
        "                x[i] = (self.b[i] - sumk[i])/self.A[i,i]\n",
        "            else:\n",
        "                print('No invertible con Jacobi')\n",
        "        residuo = np.linalg.norm( self.b - np.dot(self.A,x) )\n",
        "    return x,it,residuo\n",
        "  def  Gaus_Seidel(self,itmax=1000,error = 1e-10):\n",
        "    M,N = self.A.shape \n",
        "    x = np.zeros(N)\n",
        "    sumk = np.zeros_like(x)\n",
        "    x = [0,0,0]\n",
        "    it = 0\n",
        "    residuo = np.linalg.norm( self.b - np.dot(self.A,x) )\n",
        "    while ( residuo > error and it < itmax ):\n",
        "        it += 1\n",
        "        for i in range(M):\n",
        "            sum_ = 0\n",
        "            for j in range(N):\n",
        "                if i != j:\n",
        "                    sum_ += self.A[i][j]*x[j]\n",
        "            sumk[i] = sum_   \n",
        "            if self.A[i,i] != 0:\n",
        "                x[i] = (self.b[i] - sumk[i])/self.A[i,i]\n",
        "            else:\n",
        "                print('No invertible con Jacobi')\n",
        "        print(x)\n",
        "        residuo = np.linalg.norm( self.b - np.dot(self.A,x) )\n",
        "    return x,it,residuo\n",
        "\n"
      ]
    },
    {
      "cell_type": "code",
      "source": [
        "def Gauss_Seidel_func(A,b,itmax=1000,error = 1e-10):  \n",
        "    M,N = A.shape \n",
        "    x = np.zeros(N)\n",
        "    sumk = np.zeros_like(x)\n",
        "    x = [0,0,0]\n",
        "    it = 0\n",
        "    residuo = np.linalg.norm( b - np.dot(A,x) )\n",
        "    while ( residuo > error and it < itmax ):\n",
        "        it += 1\n",
        "        for i in range(M):\n",
        "            sum_ = 0\n",
        "            for j in range(N):\n",
        "                if i != j:\n",
        "                    sum_ += A[i][j]*x[j]\n",
        "            sumk[i] = sum_   \n",
        "            if A[i,i] != 0:\n",
        "                x[i] = (b[i] - sumk[i])/A[i,i]\n",
        "            else:\n",
        "                print('No invertible con Jacobi')\n",
        "        print(x)\n",
        "        residuo = np.linalg.norm( b - np.dot(A,x) )\n",
        "    return x,it,residuo\n"
      ],
      "metadata": {
        "id": "EVUy1MNe7gbg"
      },
      "execution_count": null,
      "outputs": []
    },
    {
      "cell_type": "code",
      "source": [
        "M = np.array([[3,-1,-1],[-1.,3.,1.],[2,1,4]])\n",
        "b = np.array([1.,3.,7.])"
      ],
      "metadata": {
        "id": "amST7nvzu3WN"
      },
      "execution_count": null,
      "outputs": []
    },
    {
      "cell_type": "code",
      "source": [
        "int1 = sistema_lineal(M,b)"
      ],
      "metadata": {
        "id": "Syw97oBPvG8q"
      },
      "execution_count": null,
      "outputs": []
    },
    {
      "cell_type": "code",
      "source": [
        "int1.Jacobi()"
      ],
      "metadata": {
        "id": "2nftXB8Xvbcx",
        "colab": {
          "base_uri": "https://localhost:8080/"
        },
        "outputId": "d73b432d-f981-44cf-88b3-e49e9a4f9053"
      },
      "execution_count": null,
      "outputs": [
        {
          "output_type": "execute_result",
          "data": {
            "text/plain": [
              "([1.0000000000012628, 1.0000000000109328, 0.9999999999902489],\n",
              " 26,\n",
              " 3.367400148824269e-11)"
            ]
          },
          "metadata": {},
          "execution_count": 116
        }
      ]
    },
    {
      "cell_type": "code",
      "source": [
        "int1.Gaus_Seidel()"
      ],
      "metadata": {
        "id": "e1XhcOl2yBJn",
        "colab": {
          "base_uri": "https://localhost:8080/"
        },
        "outputId": "22c90924-b9d6-4193-b804-6493c9b8eb65"
      },
      "execution_count": null,
      "outputs": [
        {
          "output_type": "stream",
          "name": "stdout",
          "text": [
            "[0.3333333333333333, 1.1111111111111112, 1.3055555555555556]\n",
            "[1.138888888888889, 0.9444444444444445, 0.9444444444444443]\n",
            "[0.9629629629629629, 1.0061728395061729, 1.0169753086419753]\n",
            "[1.007716049382716, 0.9969135802469135, 0.9969135802469137]\n",
            "[0.9979423868312757, 1.0003429355281206, 1.000943072702332]\n",
            "[1.000428669410151, 0.9998285322359397, 0.9998285322359396]\n",
            "[0.9998856881572932, 1.0000190519737846, 1.0000523929279073]\n",
            "[1.0000238149672305, 0.9999904740131077, 0.9999904740131078]\n",
            "[0.9999936493420719, 1.0000010584429881, 1.0000029107182171]\n",
            "[1.000001323053735, 0.9999994707785059, 0.999999470778506]\n",
            "[0.9999996471856707, 1.000000058802388, 1.0000001617065677]\n",
            "[1.0000000735029853, 0.999999970598806, 0.9999999705988059]\n",
            "[0.9999999803992039, 1.0000000032667993, 1.0000000089836982]\n",
            "[1.000000004083499, 0.9999999983666003, 0.9999999983666004]\n",
            "[0.999999998911067, 1.0000000001814888, 1.0000000004990943]\n",
            "[1.000000000226861, 0.9999999999092556, 0.9999999999092556]\n",
            "[0.9999999999395038, 1.0000000000100828, 1.0000000000277274]\n",
            "[1.0000000000126035, 0.9999999999949587, 0.9999999999949586]\n"
          ]
        },
        {
          "output_type": "execute_result",
          "data": {
            "text/plain": [
              "([1.0000000000126035, 0.9999999999949587, 0.9999999999949586],\n",
              " 18,\n",
              " 5.8030712832710874e-11)"
            ]
          },
          "metadata": {},
          "execution_count": 123
        }
      ]
    },
    {
      "cell_type": "code",
      "source": [
        "Gauss_Seidel_func(M,b)"
      ],
      "metadata": {
        "id": "3Q087Rts8CLh",
        "colab": {
          "base_uri": "https://localhost:8080/"
        },
        "outputId": "0c8c36a4-2664-4d89-cdab-e4359973a8a8"
      },
      "execution_count": null,
      "outputs": [
        {
          "output_type": "stream",
          "name": "stdout",
          "text": [
            "[0.3333333333333333, 1.1111111111111112, 1.3055555555555556]\n",
            "[1.138888888888889, 0.9444444444444445, 0.9444444444444443]\n",
            "[0.9629629629629629, 1.0061728395061729, 1.0169753086419753]\n",
            "[1.007716049382716, 0.9969135802469135, 0.9969135802469137]\n",
            "[0.9979423868312757, 1.0003429355281206, 1.000943072702332]\n",
            "[1.000428669410151, 0.9998285322359397, 0.9998285322359396]\n",
            "[0.9998856881572932, 1.0000190519737846, 1.0000523929279073]\n",
            "[1.0000238149672305, 0.9999904740131077, 0.9999904740131078]\n",
            "[0.9999936493420719, 1.0000010584429881, 1.0000029107182171]\n",
            "[1.000001323053735, 0.9999994707785059, 0.999999470778506]\n",
            "[0.9999996471856707, 1.000000058802388, 1.0000001617065677]\n",
            "[1.0000000735029853, 0.999999970598806, 0.9999999705988059]\n",
            "[0.9999999803992039, 1.0000000032667993, 1.0000000089836982]\n",
            "[1.000000004083499, 0.9999999983666003, 0.9999999983666004]\n",
            "[0.999999998911067, 1.0000000001814888, 1.0000000004990943]\n",
            "[1.000000000226861, 0.9999999999092556, 0.9999999999092556]\n",
            "[0.9999999999395038, 1.0000000000100828, 1.0000000000277274]\n",
            "[1.0000000000126035, 0.9999999999949587, 0.9999999999949586]\n"
          ]
        },
        {
          "output_type": "execute_result",
          "data": {
            "text/plain": [
              "([1.0000000000126035, 0.9999999999949587, 0.9999999999949586],\n",
              " 18,\n",
              " 5.8030712832710874e-11)"
            ]
          },
          "metadata": {},
          "execution_count": 120
        }
      ]
    },
    {
      "cell_type": "code",
      "source": [
        "A = ([[1,0,0],[5,1,0],[-2,3,1]])\n",
        "B = ([[4,-2,1],[0,3,7],[0,0,2]])\n",
        "def Matrix_Multiplication(A,B):\n",
        "  Matrix = np.zeros_like(A)\n",
        "  for i in range(len(A)):\n",
        "      for j in range(len(B[0])):\n",
        "          for k in range(len(B)):\n",
        "              Matrix[i][j] += A[i][k] * B[k][j]\n",
        "  return Matrix\n",
        "\n",
        "print(Matrix_Multiplication(A,B))\n",
        "print(np.dot(A,B))"
      ],
      "metadata": {
        "colab": {
          "base_uri": "https://localhost:8080/"
        },
        "id": "GCTNT8Wz8M5m",
        "outputId": "a2b465cf-e404-4069-e0f3-abb9c8675538"
      },
      "execution_count": null,
      "outputs": [
        {
          "output_type": "stream",
          "name": "stdout",
          "text": [
            "[[ 4 -2  1]\n",
            " [20 -7 12]\n",
            " [-8 13 21]]\n",
            "[[ 4 -2  1]\n",
            " [20 -7 12]\n",
            " [-8 13 21]]\n"
          ]
        }
      ]
    }
  ]
}