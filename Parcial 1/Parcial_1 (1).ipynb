{
  "nbformat": 4,
  "nbformat_minor": 0,
  "metadata": {
    "colab": {
      "provenance": [],
      "collapsed_sections": []
    },
    "kernelspec": {
      "name": "python3",
      "display_name": "Python 3"
    },
    "language_info": {
      "name": "python"
    }
  },
  "cells": [
    {
      "cell_type": "code",
      "execution_count": 40,
      "metadata": {
        "colab": {
          "base_uri": "https://localhost:8080/",
          "height": 282
        },
        "id": "ZsiooC0Qv91h",
        "outputId": "5b2331f9-6fda-4e7c-c094-8a089f402340"
      },
      "outputs": [
        {
          "output_type": "execute_result",
          "data": {
            "text/plain": [
              "[<matplotlib.lines.Line2D at 0x7f9ea3ab5610>]"
            ]
          },
          "metadata": {},
          "execution_count": 40
        },
        {
          "output_type": "display_data",
          "data": {
            "text/plain": [
              "<Figure size 432x288 with 1 Axes>"
            ],
            "image/png": "[encoded data removed]"
          },
          "metadata": {
            "needs_background": "light"
          }
        }
      ],
      "source": [
        "#Derivadas  \n",
        "\n",
        "import numpy as np \n",
        "import matplotlib.pyplot as plt\n",
        "X = np.arange(0.1,1.1,0.01)\n",
        "\n",
        "def f_x (x):\n",
        "  return (np.tan(x))**(1/2)\n",
        "\n",
        "\n",
        "def Derivative_Prog(x,f,h):\n",
        "    return (f(x+h)-f(x))/h\n",
        "\n",
        "def Derivative_Cen(x,f,h):\n",
        "    return (f(x+h)-f(x-h))/(2*h)\n",
        "\n",
        "y = f_x(X)\n",
        "dev_prog = Derivative_Prog(X,f_x,h=0.01)\n",
        "plt.plot(X,y)\n",
        "plt.plot(X,dev_prog)"
      ]
    },
    {
      "cell_type": "code",
      "source": [
        "dev_c = Derivative_Cen(X,f_x,h=0.01)\n",
        "plt.plot(X,y)\n",
        "plt.plot(X,dev_c)"
      ],
      "metadata": {
        "colab": {
          "base_uri": "https://localhost:8080/",
          "height": 282
        },
        "id": "zGQFnXXIzH2t",
        "outputId": "fc6ff508-f07c-473a-c90c-4fbf698e80cd"
      },
      "execution_count": 26,
      "outputs": [
        {
          "output_type": "execute_result",
          "data": {
            "text/plain": [
              "[<matplotlib.lines.Line2D at 0x7f9ea3ac9650>]"
            ]
          },
          "metadata": {},
          "execution_count": 26
        },
        {
          "output_type": "display_data",
          "data": {
            "text/plain": [
              "<Figure size 432x288 with 1 Axes>"
            ],
            "image/png": "[encoded data removed]"
          },
          "metadata": {
            "needs_background": "light"
          }
        }
      ]
    },
    {
      "cell_type": "code",
      "source": [],
      "metadata": {
        "id": "3Uc9f7l2-vsK"
      },
      "execution_count": null,
      "outputs": []
    },
    {
      "cell_type": "markdown",
      "source": [
        "Derivada Analitica \n",
        "\n",
        "$\\frac{d}{dx}\\left(\\sqrt{tanx}\\right)$\n",
        "\n",
        "\n",
        "$=\\frac{1}{2\\sqrt{\\tan \\left(x\\right)}}\\frac{d}{dx}\\left(\\tan \\left(x\\right)\\right)$\n",
        "\n",
        "\n",
        "$=\\frac{\\sec ^2\\left(x\\right)}{2\\sqrt{\\tan \\left(x\\right)}}$\n"
      ],
      "metadata": {
        "id": "faSPMI4g9-YF"
      }
    },
    {
      "cell_type": "code",
      "source": [
        "def Anlalitic_Derivative(x):\n",
        "  return (1/(np.cos(x))**2)/(2*(np.tan(x)**(1/2)))\n",
        "X_a = np.arange(0.1,1.1,0.01)\n",
        "dev_a = Anlalitic_Derivative(X_a)\n",
        "plt.plot(X,y,c='red',label='f_(x)')\n",
        "plt.ylim(0,2)\n",
        "plt.plot(X_a,dev_prog,c='black',label='Derivada Progresiva')\n",
        "plt.plot(X_a,dev_c,c='blue',label='Derivada Central')\n",
        "plt.plot(X_a,dev_a,c='green',label='Derivada Analitica')\n"
      ],
      "metadata": {
        "id": "gPDMO2292wLh"
      },
      "execution_count": null,
      "outputs": []
    },
    {
      "cell_type": "markdown",
      "source": [],
      "metadata": {
        "id": "-tK2PqrA9aGq"
      }
    },
    {
      "cell_type": "code",
      "source": [
        "#Error nodal\n",
        "print(\"El error en cada uno de los puntos en la derivada central es\",(dev_c-dev_a))"
      ],
      "metadata": {
        "colab": {
          "base_uri": "https://localhost:8080/"
        },
        "id": "1sDtpi4f9S9u",
        "outputId": "fcd8df24-c5fc-4eaf-9d7e-6439f1597509"
      },
      "execution_count": 60,
      "outputs": [
        {
          "output_type": "stream",
          "name": "stdout",
          "text": [
            "El error en cada uno de los puntos en la derivada central es [2.00270939e-03 1.58004639e-03 1.27326147e-03 1.04447929e-03\n",
            " 8.69932443e-04 7.34145188e-04 6.26718752e-04 5.40473764e-04\n",
            " 4.70335080e-04 4.12639779e-04 3.64695098e-04 3.24488705e-04\n",
            " 2.90494429e-04 2.61539301e-04 2.36710858e-04 2.15291440e-04\n",
            " 1.96710888e-04 1.80512029e-04 1.66325152e-04 1.53848925e-04\n",
            " 1.42835952e-04 1.33081753e-04 1.24416256e-04 1.16697187e-04\n",
            " 1.09804881e-04 1.03638184e-04 9.81111904e-05 9.31506283e-05\n",
            " 8.86937533e-05 8.46866373e-05 8.10827747e-05 7.78419381e-05\n",
            " 7.49292367e-05 7.23143355e-05 6.99708074e-05 6.78755909e-05\n",
            " 6.60085371e-05 6.43520281e-05 6.28906548e-05 6.16109453e-05\n",
            " 6.05011343e-05 5.95509669e-05 5.87515321e-05 5.80951210e-05\n",
            " 5.75751063e-05 5.71858392e-05 5.69225625e-05 5.67813366e-05\n",
            " 5.67589778e-05 5.68530060e-05 5.70616021e-05 5.73835735e-05\n",
            " 5.78183262e-05 5.83658442e-05 5.90266748e-05 5.98019196e-05\n",
            " 6.06932306e-05 6.17028121e-05 6.28334269e-05 6.40884082e-05\n",
            " 6.54716763e-05 6.69877602e-05 6.86418247e-05 7.04397034e-05\n",
            " 7.23879370e-05 7.44938181e-05 7.67654434e-05 7.92117722e-05\n",
            " 8.18426941e-05 8.46691051e-05 8.77029933e-05 9.09575366e-05\n",
            " 9.44472116e-05 9.81879170e-05 1.02197112e-04 1.06493975e-04\n",
            " 1.11099573e-04 1.16037070e-04 1.21331941e-04 1.27012234e-04\n",
            " 1.33108849e-04 1.39655867e-04 1.46690917e-04 1.54255595e-04\n",
            " 1.62395938e-04 1.71162972e-04 1.80613328e-04 1.90809954e-04\n",
            " 2.01822934e-04 2.13730423e-04 2.26619728e-04 2.40588558e-04\n",
            " 2.55746470e-04 2.72216548e-04 2.90137358e-04 3.09665230e-04\n",
            " 3.30976928e-04 3.54272787e-04 3.79780409e-04 4.07759020e-04]\n"
          ]
        }
      ]
    },
    {
      "cell_type": "code",
      "source": [
        "print(\"El error en cada uno de los puntos en la derivada progresiva es\",(dev_c-dev_a))"
      ],
      "metadata": {
        "colab": {
          "base_uri": "https://localhost:8080/"
        },
        "id": "Tf0_sIiG3Kz2",
        "outputId": "12ac8b1a-33eb-4cbd-e54b-51c58e503e45"
      },
      "execution_count": 61,
      "outputs": [
        {
          "output_type": "stream",
          "name": "stdout",
          "text": [
            "El error en cada uno de los puntos en la derivada progresiva es [2.00270939e-03 1.58004639e-03 1.27326147e-03 1.04447929e-03\n",
            " 8.69932443e-04 7.34145188e-04 6.26718752e-04 5.40473764e-04\n",
            " 4.70335080e-04 4.12639779e-04 3.64695098e-04 3.24488705e-04\n",
            " 2.90494429e-04 2.61539301e-04 2.36710858e-04 2.15291440e-04\n",
            " 1.96710888e-04 1.80512029e-04 1.66325152e-04 1.53848925e-04\n",
            " 1.42835952e-04 1.33081753e-04 1.24416256e-04 1.16697187e-04\n",
            " 1.09804881e-04 1.03638184e-04 9.81111904e-05 9.31506283e-05\n",
            " 8.86937533e-05 8.46866373e-05 8.10827747e-05 7.78419381e-05\n",
            " 7.49292367e-05 7.23143355e-05 6.99708074e-05 6.78755909e-05\n",
            " 6.60085371e-05 6.43520281e-05 6.28906548e-05 6.16109453e-05\n",
            " 6.05011343e-05 5.95509669e-05 5.87515321e-05 5.80951210e-05\n",
            " 5.75751063e-05 5.71858392e-05 5.69225625e-05 5.67813366e-05\n",
            " 5.67589778e-05 5.68530060e-05 5.70616021e-05 5.73835735e-05\n",
            " 5.78183262e-05 5.83658442e-05 5.90266748e-05 5.98019196e-05\n",
            " 6.06932306e-05 6.17028121e-05 6.28334269e-05 6.40884082e-05\n",
            " 6.54716763e-05 6.69877602e-05 6.86418247e-05 7.04397034e-05\n",
            " 7.23879370e-05 7.44938181e-05 7.67654434e-05 7.92117722e-05\n",
            " 8.18426941e-05 8.46691051e-05 8.77029933e-05 9.09575366e-05\n",
            " 9.44472116e-05 9.81879170e-05 1.02197112e-04 1.06493975e-04\n",
            " 1.11099573e-04 1.16037070e-04 1.21331941e-04 1.27012234e-04\n",
            " 1.33108849e-04 1.39655867e-04 1.46690917e-04 1.54255595e-04\n",
            " 1.62395938e-04 1.71162972e-04 1.80613328e-04 1.90809954e-04\n",
            " 2.01822934e-04 2.13730423e-04 2.26619728e-04 2.40588558e-04\n",
            " 2.55746470e-04 2.72216548e-04 2.90137358e-04 3.09665230e-04\n",
            " 3.30976928e-04 3.54272787e-04 3.79780409e-04 4.07759020e-04]\n"
          ]
        }
      ]
    },
    {
      "cell_type": "code",
      "source": [
        "diff = dev_c-dev_a\n",
        "plt.scatter(X,diff,color='r',label='Datos')"
      ],
      "metadata": {
        "colab": {
          "base_uri": "https://localhost:8080/",
          "height": 282
        },
        "id": "_T5YmvLD7Jub",
        "outputId": "8c41fcd5-541b-462e-ac5a-cd8b3424e260"
      },
      "execution_count": 57,
      "outputs": [
        {
          "output_type": "execute_result",
          "data": {
            "text/plain": [
              "<matplotlib.collections.PathCollection at 0x7f9ea373e4d0>"
            ]
          },
          "metadata": {},
          "execution_count": 57
        },
        {
          "output_type": "display_data",
          "data": {
            "text/plain": [
              "<Figure size 432x288 with 1 Axes>"
            ],
            "image/png": "[encoded data removed]"
          },
          "metadata": {
            "needs_background": "light"
          }
        }
      ]
    },
    {
      "cell_type": "code",
      "source": [
        "diff = dev_prog-dev_a\n",
        "plt.scatter(X,diff,color='r',label='Datos')"
      ],
      "metadata": {
        "colab": {
          "base_uri": "https://localhost:8080/",
          "height": 282
        },
        "id": "kMDjhF1N7J2e",
        "outputId": "3da19f4c-02d3-456e-e25c-a77da62224ac"
      },
      "execution_count": 58,
      "outputs": [
        {
          "output_type": "execute_result",
          "data": {
            "text/plain": [
              "<matplotlib.collections.PathCollection at 0x7f9ea35a5cd0>"
            ]
          },
          "metadata": {},
          "execution_count": 58
        },
        {
          "output_type": "display_data",
          "data": {
            "text/plain": [
              "<Figure size 432x288 with 1 Axes>"
            ],
            "image/png": "[encoded data removed]"
          },
          "metadata": {
            "needs_background": "light"
          }
        }
      ]
    },
    {
      "cell_type": "code",
      "source": [],
      "metadata": {
        "id": "k6A0pFLH86ZS"
      },
      "execution_count": null,
      "outputs": []
    },
    {
      "cell_type": "markdown",
      "source": [
        "Ambas aproximaciones no cuentan con el mismo orden de precisión, el orden del error para la derivada central es menor que la derivada progresiva debido a su definición. Tal que la aproximación por diferencia centrada de f′(x) es más precisa que la aproximación por diferencia directa (al menos cuando h es suficientemente pequeño).\n",
        "\n",
        "\n",
        "\n",
        "Referencias \n",
        "@MISC {4267826,\n",
        "    TITLE = {Intuitively why does the central difference method provide us a more accurate value of the derivative of a function than forward/backward difference?},\n",
        "    AUTHOR = {littleO (https://math.stackexchange.com/users/40119/littleo)},\n",
        "    HOWPUBLISHED = {Mathematics Stack Exchange},\n",
        "    NOTE = {URL:https://math.stackexchange.com/q/4267826 (version: 2022-04-07)},\n",
        "    EPRINT = {https://math.stackexchange.com/q/4267826},\n",
        "    URL = {https://math.stackexchange.com/q/4267826}\n",
        "}"
      ],
      "metadata": {
        "id": "Jz_1kQ-j7nM5"
      }
    }
  ]
}