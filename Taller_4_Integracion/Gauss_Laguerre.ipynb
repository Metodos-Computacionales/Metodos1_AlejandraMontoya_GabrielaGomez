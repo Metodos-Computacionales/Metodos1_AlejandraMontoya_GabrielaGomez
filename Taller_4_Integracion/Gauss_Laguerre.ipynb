{
  "nbformat": 4,
  "nbformat_minor": 0,
  "metadata": {
    "colab": {
      "provenance": [],
      "collapsed_sections": []
    },
    "kernelspec": {
      "name": "python3",
      "display_name": "Python 3"
    },
    "language_info": {
      "name": "python"
    }
  },
  "cells": [
    {
      "cell_type": "markdown",
      "source": [
        "Black-body radiation\n",
        "\n",
        "\n",
        "\n",
        "> $\\int _0^{\\infty }\\:\\frac{x^3}{e^x+1}dx$\n",
        "\n",
        "\n"
      ],
      "metadata": {
        "id": "47RSxZkyx1AL"
      }
    },
    {
      "cell_type": "code",
      "execution_count": 64,
      "metadata": {
        "colab": {
          "base_uri": "https://localhost:8080/"
        },
        "id": "U1K1u_rpxxFV",
        "outputId": "01d0d36e-d7c6-48c3-9445-95e394cdba7f"
      },
      "outputs": [
        {
          "output_type": "stream",
          "name": "stdout",
          "text": [
            "0.4157745567834791\n",
            "2.294280360279042\n",
            "6.2899450829374794\n"
          ]
        },
        {
          "output_type": "execute_result",
          "data": {
            "text/plain": [
              "0.33319377359363456"
            ]
          },
          "metadata": {},
          "execution_count": 64
        }
      ],
      "source": [
        "import numpy as np\n",
        "import matplotlib.pyplot as plt\n",
        "from sympy import *\n",
        "\n",
        "\n",
        "X = np.linspace(-50, 50, 100)\n",
        "n=3\n",
        "\n",
        "def f_x(x):\n",
        "  return (x**3)/((np.exp(x))+1)\n",
        "\n",
        "def laguerre_weights(n):\n",
        "    x = Symbol(\"x\")\n",
        "    roots = Poly(laguerre(n, x)).all_roots()\n",
        "    x_i = []\n",
        "    w_i = []\n",
        "    for j in roots:\n",
        "      x_i.append(float(j.evalf()))\n",
        "      w_i.append(float((j/((n+1)*laguerre(n+1,j))**2).evalf()))\n",
        "    sum = 0 \n",
        "    for i in range(n):\n",
        "      pass\n",
        "      sum += f_x(x_i[i])*(w_i[i])\n",
        "    return sum\n",
        "\n",
        "\n",
        "\n",
        "\n"
      ]
    },
    {
      "cell_type": "code",
      "source": [
        " \n",
        "Integral = float(6.493939)\n",
        "Numerical_I = []\n",
        "for i in range(10):\n",
        "  Numerical_I.append(laguerre_weights(n)/Integral)\n",
        "\n",
        "plt.scatter(n_p,Numerical_I,color='r')\n",
        "plt.plot(x,y,color='k')\n"
      ],
      "metadata": {
        "colab": {
          "base_uri": "https://localhost:8080/",
          "height": 738
        },
        "id": "sLOAFlLa7bo5",
        "outputId": "a3044da5-edb9-44b8-ba2d-fdca336efe4a"
      },
      "execution_count": 69,
      "outputs": [
        {
          "output_type": "stream",
          "name": "stdout",
          "text": [
            "0.4157745567834791\n",
            "2.294280360279042\n",
            "6.2899450829374794\n",
            "0.4157745567834791\n",
            "2.294280360279042\n",
            "6.2899450829374794\n",
            "0.4157745567834791\n",
            "2.294280360279042\n",
            "6.2899450829374794\n",
            "0.4157745567834791\n",
            "2.294280360279042\n",
            "6.2899450829374794\n",
            "0.4157745567834791\n",
            "2.294280360279042\n",
            "6.2899450829374794\n",
            "0.4157745567834791\n",
            "2.294280360279042\n",
            "6.2899450829374794\n",
            "0.4157745567834791\n",
            "2.294280360279042\n",
            "6.2899450829374794\n",
            "0.4157745567834791\n",
            "2.294280360279042\n",
            "6.2899450829374794\n",
            "0.4157745567834791\n",
            "2.294280360279042\n",
            "6.2899450829374794\n",
            "0.4157745567834791\n",
            "2.294280360279042\n",
            "6.2899450829374794\n"
          ]
        },
        {
          "output_type": "error",
          "ename": "NameError",
          "evalue": "ignored",
          "traceback": [
            "\u001b[0;31m---------------------------------------------------------------------------\u001b[0m",
            "\u001b[0;31mNameError\u001b[0m                                 Traceback (most recent call last)",
            "\u001b[0;32m<ipython-input-69-5783500f345d>\u001b[0m in \u001b[0;36m<module>\u001b[0;34m\u001b[0m\n\u001b[1;32m      4\u001b[0m   \u001b[0mNumerical_I\u001b[0m\u001b[0;34m.\u001b[0m\u001b[0mappend\u001b[0m\u001b[0;34m(\u001b[0m\u001b[0mlaguerre_weights\u001b[0m\u001b[0;34m(\u001b[0m\u001b[0mn\u001b[0m\u001b[0;34m)\u001b[0m\u001b[0;34m/\u001b[0m\u001b[0mIntegral\u001b[0m\u001b[0;34m)\u001b[0m\u001b[0;34m\u001b[0m\u001b[0;34m\u001b[0m\u001b[0m\n\u001b[1;32m      5\u001b[0m \u001b[0;34m\u001b[0m\u001b[0m\n\u001b[0;32m----> 6\u001b[0;31m \u001b[0mplt\u001b[0m\u001b[0;34m.\u001b[0m\u001b[0mscatter\u001b[0m\u001b[0;34m(\u001b[0m\u001b[0mn_p\u001b[0m\u001b[0;34m,\u001b[0m\u001b[0mNumerical_I\u001b[0m\u001b[0;34m,\u001b[0m\u001b[0mcolor\u001b[0m\u001b[0;34m=\u001b[0m\u001b[0;34m'r'\u001b[0m\u001b[0;34m)\u001b[0m\u001b[0;34m\u001b[0m\u001b[0;34m\u001b[0m\u001b[0m\n\u001b[0m\u001b[1;32m      7\u001b[0m \u001b[0mplt\u001b[0m\u001b[0;34m.\u001b[0m\u001b[0mplot\u001b[0m\u001b[0;34m(\u001b[0m\u001b[0mx\u001b[0m\u001b[0;34m,\u001b[0m\u001b[0my\u001b[0m\u001b[0;34m,\u001b[0m\u001b[0mcolor\u001b[0m\u001b[0;34m=\u001b[0m\u001b[0;34m'k'\u001b[0m\u001b[0;34m)\u001b[0m\u001b[0;34m\u001b[0m\u001b[0;34m\u001b[0m\u001b[0m\n",
            "\u001b[0;31mNameError\u001b[0m: name 'n_p' is not defined"
          ]
        }
      ]
    },
    {
      "cell_type": "code",
      "source": [],
      "metadata": {
        "id": "Udw2xfKd9tve"
      },
      "execution_count": null,
      "outputs": []
    }
  ]
}