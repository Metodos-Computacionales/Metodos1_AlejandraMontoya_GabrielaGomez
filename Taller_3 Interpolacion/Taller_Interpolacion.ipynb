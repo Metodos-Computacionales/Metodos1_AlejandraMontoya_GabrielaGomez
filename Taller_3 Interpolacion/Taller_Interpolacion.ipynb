{
  "nbformat": 4,
  "nbformat_minor": 0,
  "metadata": {
    "colab": {
      "provenance": [],
      "collapsed_sections": []
    },
    "kernelspec": {
      "name": "python3",
      "display_name": "Python 3"
    },
    "language_info": {
      "name": "python"
    }
  },
  "cells": [
    {
      "cell_type": "code",
      "source": [
        "import numpy as np\n",
        "import matplotlib.pyplot as plt\n",
        "from matplotlib import rc\n",
        "import pandas as pd\n",
        "import sympy as sym\n",
        "import os.path as path\n"
      ],
      "metadata": {
        "id": "5s5sosPe5Du-"
      },
      "execution_count": null,
      "outputs": []
    },
    {
      "cell_type": "code",
      "source": [
        "#Datos\n",
        "X = np.array([1.4000,3.5000,5.6000])\n",
        "Y = np.array([0.4007,0.5941,0.2980])\n"
      ],
      "metadata": {
        "id": "q-S_gk2M5Nbv"
      },
      "execution_count": null,
      "outputs": []
    },
    {
      "cell_type": "code",
      "execution_count": null,
      "metadata": {
        "id": "-P97JZfA45AO"
      },
      "outputs": [],
      "source": [
        "def Lagrange(x,xi,j):\n",
        "    prod = 1.0\n",
        "    n = len(xi)\n",
        "    for i in range(n):\n",
        "        if i != j:\n",
        "            prod *= (x - xi[i])/(xi[j]-xi[i])       \n",
        "    return prod\n"
      ]
    },
    {
      "cell_type": "code",
      "source": [
        "def Poly(x,xi,yi):\n",
        "    Sum = 0.\n",
        "    n = len(xi) \n",
        "    for j in range(n):\n",
        "        Sum += yi[j]*Lagrange(x,xi,j)\n",
        "    return Sum"
      ],
      "metadata": {
        "id": "-xgNINAA4_dh"
      },
      "execution_count": null,
      "outputs": []
    },
    {
      "cell_type": "code",
      "source": [
        "x = np.linspace(0,7,100)\n",
        "y = Poly(x,X,Y)\n",
        "plt.scatter(X,Y,color='r')\n",
        "plt.plot(x,y,color='k')"
      ],
      "metadata": {
        "colab": {
          "base_uri": "https://localhost:8080/",
          "height": 282
        },
        "id": "OfXePHH25DHO",
        "outputId": "4c6d6c50-81b1-40a5-b8cb-bc5daba453d1"
      },
      "execution_count": null,
      "outputs": [
        {
          "output_type": "execute_result",
          "data": {
            "text/plain": [
              "[<matplotlib.lines.Line2D at 0x7f0089c2b3d0>]"
            ]
          },
          "metadata": {},
          "execution_count": 12
        },
        {
          "output_type": "display_data",
          "data": {
            "text/plain": [
              "<Figure size 432x288 with 1 Axes>"
            ],
            "image/png": "[encoded data removed]"
          },
          "metadata": {
            "needs_background": "light"
          }
        }
      ]
    },
    {
      "cell_type": "code",
      "source": [
        "x = sym.Symbol('x')\n",
        "f = Poly(x,X,Y)\n",
        "\n",
        "f = sym.expand(f)\n",
        "f"
      ],
      "metadata": {
        "colab": {
          "base_uri": "https://localhost:8080/",
          "height": 39
        },
        "id": "XMi09vXX6ZcB",
        "outputId": "7f118050-70c3-43c9-aa32-531cdb8576a3"
      },
      "execution_count": null,
      "outputs": [
        {
          "output_type": "execute_result",
          "data": {
            "text/plain": [
              "-0.0554988662131519*x**2 + 0.364039682539682*x - 0.000177777777777832"
            ],
            "text/latex": "$\\displaystyle - 0.0554988662131519 x^{2} + 0.364039682539682 x - 0.000177777777777832$"
          },
          "metadata": {},
          "execution_count": 14
        }
      ]
    },
    {
      "cell_type": "markdown",
      "source": [
        "La ecuación para la trayectoria de un movimiento parabólico está dada por la ecuación: \n",
        "\n",
        "\n",
        "$y\\:=\\:x\\:tan\\left(\\theta \\right)\\:+\\:\\frac{g}{2V_0\\:cos\\left(\\theta \\right)^2}x^2$\n",
        "\n",
        "Comparando con las condiciones iniciales. tan que $V_0$= 10  y $\\theta$=20 el \n",
        "polinomio proporcionado por interpolacion de Lagrange es correcto. \n",
        "\n"
      ],
      "metadata": {
        "id": "FNA4STm9CuHu"
      }
    },
    {
      "cell_type": "markdown",
      "source": [
        "**Metodo de Interpolacion Newton Gregory **\n",
        "\n"
      ],
      "metadata": {
        "id": "gzpXDhCKD_fV"
      }
    },
    {
      "cell_type": "code",
      "source": [
        "X = np.array([0,1.5,2,3.8,4.2,5.9])\n",
        "Y = np.array([-18,-13,0,5,3,10])\n",
        "\n",
        "def NewtonGregory(X,Y,x):\n",
        "    sum = Y[0]\n",
        "    prod = 1\n",
        "    delf = np.zeros( (len(X),len(Y)+1) )\n",
        "    delf[:,0] = X\n",
        "    delf[:,1] = Y\n",
        "    for i in range(2,len(X)+1):\n",
        "        for j in range(i-1, len(X)):\n",
        "            delf_x = (X[j]-X[j-i+1])\n",
        "            delf[j,i] = (delf[j,i-1]-delf[j-1,i-1])/delf_x\n",
        "        prod *= (x-X[i-2])\n",
        "        a_x = delf[i-1,i]\n",
        "        sum += a_x*prod\n",
        "    return sum, delf\n",
        "xp = np.linspace(0,6.5,10000)\n",
        "y_pg = []\n",
        "for x in xp:\n",
        "    y_p,_ = NewtonGregory(X,Y,x)\n",
        "    y_pg.append(y_p)\n",
        "\n",
        "plt.scatter(X,Y,color='r',label='Datos')\n",
        "plt.plot(xp,y_pg,c='black',label='Polinomio')\n",
        "plt.legend()"
      ],
      "metadata": {
        "colab": {
          "base_uri": "https://localhost:8080/",
          "height": 282
        },
        "id": "5fU0U7TzD_Pn",
        "outputId": "ffbf08ea-93d4-4f43-8ccc-825d079bf3c3"
      },
      "execution_count": null,
      "outputs": [
        {
          "output_type": "execute_result",
          "data": {
            "text/plain": [
              "<matplotlib.legend.Legend at 0x7f0086f8e2d0>"
            ]
          },
          "metadata": {},
          "execution_count": 55
        },
        {
          "output_type": "display_data",
          "data": {
            "text/plain": [
              "<Figure size 432x288 with 1 Axes>"
            ],
            "image/png": "[encoded data removed]"
          },
          "metadata": {
            "needs_background": "light"
          }
        }
      ]
    }
  ]
}