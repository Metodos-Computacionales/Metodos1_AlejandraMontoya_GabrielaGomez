{
  "nbformat": 4,
  "nbformat_minor": 0,
  "metadata": {
    "colab": {
      "provenance": []
    },
    "kernelspec": {
      "name": "python3",
      "display_name": "Python 3"
    },
    "language_info": {
      "name": "python"
    }
  },
  "cells": [
    {
      "cell_type": "code",
      "execution_count": 17,
      "metadata": {
        "id": "2lI8BHIGdrHs"
      },
      "outputs": [],
      "source": [
        "import numpy as np\n",
        "import matplotlib.pyplot as plt\n",
        "from itertools import permutations\n",
        "from itertools import combinations\n",
        "from itertools import combinations_with_replacement\n",
        "\n",
        "States = np.array([0,1]) \n",
        "Prior =  np.array([0.2,0.8])\n",
        "\n",
        "T = np.array([[0.8,0.2],[0.2,0.8]])\n",
        "\n",
        "E = np.array([[0.5,0.9],[0.5,0.1]])\n",
        "\n",
        "DictH = {0:'Justa',1:'Truncada'}\n",
        "DictO = {0:'Cara',1:'Sello'}\n",
        "\n",
        "Obs = np.array([1,0,0,0,1,0,1,0])\n",
        "\n",
        "\n"
      ]
    },
    {
      "cell_type": "code",
      "source": [
        "#a\n",
        "def GetHiddenStates(States, N):\n",
        "    CStates = list( combinations_with_replacement(States,N) )\n",
        "    Permu = []\n",
        "    for it in CStates:\n",
        "        p = list(permutations(it,N))\n",
        "        for i in p:\n",
        "            if i not in Permu:\n",
        "                Permu.append(i)\n",
        "    print(CStates)\n",
        "    return np.array(Permu)"
      ],
      "metadata": {
        "id": "E376waOmeh6_"
      },
      "execution_count": 18,
      "outputs": []
    },
    {
      "cell_type": "code",
      "source": [
        "#b\n",
        "def GetProb(T,E,Obs,State,Prior):\n",
        "    n = len(Obs)\n",
        "    p = 1.\n",
        "    p *= Prior[State[0] ]\n",
        "    for i in range(n-1):\n",
        "        p *= T[ State[i+1], State[i] ]\n",
        "    for i in range(n):\n",
        "        p *= E[ Obs[i], State[i] ]\n",
        "    return p"
      ],
      "metadata": {
        "id": "AqDLCRR7eq2g"
      },
      "execution_count": 19,
      "outputs": []
    },
    {
      "cell_type": "code",
      "source": [
        "#c\n",
        "HiddenStates = GetHiddenStates(States,8)\n",
        "dim = HiddenStates.shape[0]\n",
        "P = np.zeros(dim)\n",
        "\n",
        "for i in range(dim):\n",
        "    P[i] = GetProb(T,E,Obs,HiddenStates[i],Prior)"
      ],
      "metadata": {
        "colab": {
          "base_uri": "https://localhost:8080/"
        },
        "id": "y18HqCoxexXS",
        "outputId": "6552f267-20ea-4dae-eb08-578b87b50ad9"
      },
      "execution_count": 20,
      "outputs": [
        {
          "output_type": "stream",
          "name": "stdout",
          "text": [
            "[(0, 0, 0, 0, 0, 0, 0, 0), (0, 0, 0, 0, 0, 0, 0, 1), (0, 0, 0, 0, 0, 0, 1, 1), (0, 0, 0, 0, 0, 1, 1, 1), (0, 0, 0, 0, 1, 1, 1, 1), (0, 0, 0, 1, 1, 1, 1, 1), (0, 0, 1, 1, 1, 1, 1, 1), (0, 1, 1, 1, 1, 1, 1, 1), (1, 1, 1, 1, 1, 1, 1, 1)]\n"
          ]
        }
      ]
    },
    {
      "cell_type": "code",
      "source": [
        "maxP = np.max(P)\n",
        "ii = np.where( P == np.amax(P))\n",
        "print(HiddenStates[ii],maxP)\n",
        "\n"
      ],
      "metadata": {
        "colab": {
          "base_uri": "https://localhost:8080/"
        },
        "id": "-QSs7Ihdfd6n",
        "outputId": "aa5e377b-abd1-4cd2-ea6a-1c9253480a6e"
      },
      "execution_count": 21,
      "outputs": [
        {
          "output_type": "stream",
          "name": "stdout",
          "text": [
            "[[1 1 1 1 0 0 0 0]] 0.0001911029760000001\n"
          ]
        }
      ]
    },
    {
      "cell_type": "code",
      "source": [
        "plt.plot(P,color='black',label='Probabilidad por secuencia')\n",
        "plt.axhline(y=maxP,color='red',label='MaxP=0.0002')\n",
        "plt.legend()"
      ],
      "metadata": {
        "colab": {
          "base_uri": "https://localhost:8080/",
          "height": 286
        },
        "id": "zbG9IMABe9Q4",
        "outputId": "9156243c-3f1f-4895-f474-009ab436411c"
      },
      "execution_count": 23,
      "outputs": [
        {
          "output_type": "execute_result",
          "data": {
            "text/plain": [
              "<matplotlib.legend.Legend at 0x7fb89a2dd650>"
            ]
          },
          "metadata": {},
          "execution_count": 23
        },
        {
          "output_type": "display_data",
          "data": {
            "text/plain": [
              "<Figure size 432x288 with 1 Axes>"
            ],
            "image/png": "[encoded data removed]"
          },
          "metadata": {
            "needs_background": "light"
          }
        }
      ]
    },
    {
      "cell_type": "code",
      "source": [
        "#d\n",
        "HiddenStates = GetHiddenStates(States,8)\n",
        "ObservedStates = HiddenStates\n",
        "dim = HiddenStates.shape[0]\n",
        "P = np.zeros(dim) \n",
        "for i in range(dim):\n",
        "    P[i] = GetProb(T,E,Obs,HiddenStates[i],Prior)\n",
        "P_i = np.zeros((dim, dim))\n",
        "for j in range(dim):\n",
        "  Obs = ObservedStates[j]\n",
        "  for i in range(dim):\n",
        "      P_i[i][j] = GetProb(T,E,Obs,HiddenStates[i],Prior)\n",
        "total_p = np.sum(P_i)\n",
        "total_p\n",
        "print(total_p)"
      ],
      "metadata": {
        "colab": {
          "base_uri": "https://localhost:8080/"
        },
        "id": "0Oay4J9ciy_T",
        "outputId": "e1488bfd-9e53-486f-da5c-b03c120f7542"
      },
      "execution_count": 24,
      "outputs": [
        {
          "output_type": "stream",
          "name": "stdout",
          "text": [
            "[(0, 0, 0, 0, 0, 0, 0, 0), (0, 0, 0, 0, 0, 0, 0, 1), (0, 0, 0, 0, 0, 0, 1, 1), (0, 0, 0, 0, 0, 1, 1, 1), (0, 0, 0, 0, 1, 1, 1, 1), (0, 0, 0, 1, 1, 1, 1, 1), (0, 0, 1, 1, 1, 1, 1, 1), (0, 1, 1, 1, 1, 1, 1, 1), (1, 1, 1, 1, 1, 1, 1, 1)]\n",
            "1.0000000000000004\n"
          ]
        }
      ]
    }
  ]
}